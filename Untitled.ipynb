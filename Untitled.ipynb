{
 "cells": [
  {
   "cell_type": "code",
   "execution_count": null,
   "id": "7bbee71c-5463-46c1-bed8-bc7cb0ce4d4e",
   "metadata": {},
   "outputs": [],
   "source": [
    "import numpy as np \n",
    "import pandas as pd \n",
    "import matplotlib.pyplot as plt \n",
    "import seaborn as sns\n",
    "import os\n",
    "from IPython.display import display\n",
    "%matplotlib inline"
   ]
  },
  {
   "cell_type": "code",
   "execution_count": null,
   "id": "039a7e27-402c-44ad-b708-3d81dd0a3f10",
   "metadata": {},
   "outputs": [],
   "source": [
    "#Loading the dataset\n",
    "events = pd.read_csv('./events.csv')\n",
    "data_ginf = pd.read_csv('./ginf.csv')\n",
    "df=data_ginf.merge(events,how='left')\n",
    "df.head()"
   ]
  },
  {
   "cell_type": "code",
   "execution_count": null,
   "id": "59f26fec-077d-48e6-a4aa-28472bfd9e93",
   "metadata": {},
   "outputs": [],
   "source": [
    "df.info()"
   ]
  },
  {
   "cell_type": "code",
   "execution_count": null,
   "id": "18965e7b-0b51-4053-8109-7e7fcd2b45a4",
   "metadata": {},
   "outputs": [],
   "source": [
    "# Initialize an empty dictionary\n",
    "new_dict = {}\n",
    "\n",
    "# Read data from file\n",
    "with open('./dictionary.txt', 'r') as f:\n",
    "    data = f.read()\n",
    "\n",
    "# Split data into sections\n",
    "sections = data.split('\\n\\n\\n')\n",
    "\n",
    "# Process each section\n",
    "for section in sections:\n",
    "    if section:\n",
    "        lines = section.split('\\n')\n",
    "        variable_name = lines[0]\n",
    "        values = lines[1:]\n",
    "        new_dict[variable_name] = {int(s.split('\\t')[0]): s.split('\\t')[1] for s in values}\n",
    "        print(section)\n",
    "\n",
    "# Assuming df is your DataFrame\n",
    "for name in new_dict:\n",
    "    df[name] = df[name].map(new_dict[name])\n"
   ]
  },
  {
   "cell_type": "code",
   "execution_count": null,
   "id": "f7a49ebf-5d9a-4434-a7ae-913ca5fe96e8",
   "metadata": {},
   "outputs": [],
   "source": [
    "bundesliga=df[df['country']=='germany']\n",
    "ligue1=df[df['country']=='france']\n",
    "laliga=df[df['country']=='spain']\n",
    "premiereleague=df[df['country']=='england']\n",
    "seriea=df[df['country']=='italy']\n",
    "print('Bundes Liga data shape:',bundesliga.shape)\n",
    "print('Ligue 1 data shape:',ligue1.shape)\n",
    "print('La Liga data shape:',laliga.shape)\n",
    "print('Premiere League:',premiereleague.shape)\n",
    "print('Serie A data shape:',seriea.shape)"
   ]
  },
  {
   "cell_type": "code",
   "execution_count": null,
   "id": "997dd2cf-6517-469b-9c8c-abce3d2ca5ac",
   "metadata": {},
   "outputs": [],
   "source": [
    "def top_scorers(data):\n",
    "    goals=data.loc[data['is_goal']==1&(data['situation']!='Own goal')] #excluding own goals(we are looking for strikers who can score in the opponent's net)\n",
    "    goals=goals.groupby('player')['is_goal'].sum().reset_index().rename(columns={'is_goal':'G'}).sort_values(by='G',ascending=False)\n",
    "    goals=goals[['player','G']].set_index('player')\n",
    "    return goals\n",
    "player_tp=top_scorers(df)\n",
    "print('G : Goals')\n",
    "player_tp[:20]\n"
   ]
  },
  {
   "cell_type": "code",
   "execution_count": null,
   "id": "f3e46528-0c84-4003-b1b7-5153fb3a14e7",
   "metadata": {},
   "outputs": [],
   "source": [
    "import matplotlib.pyplot as plt\n",
    "\n",
    "def plot_top_scorers(data, top_n=10):\n",
    "    top_scorers_result = top_scorers(data).head(top_n)\n",
    "\n",
    "    # Plotting\n",
    "    plt.figure(figsize=(12, 6))\n",
    "    plt.bar(top_scorers_result.index, top_scorers_result['G'], color='blue')\n",
    "    plt.xlabel('Player')\n",
    "    plt.ylabel('Goals')\n",
    "    plt.title('Top Scorers')\n",
    "    plt.xticks(rotation=45, ha='right')  # Adjust rotation for better visibility\n",
    "    plt.show()\n",
    "\n",
    "# Call the function with your DataFrame\n",
    "plot_top_scorers(df, top_n=10)\n"
   ]
  },
  {
   "cell_type": "code",
   "execution_count": null,
   "id": "d899a769-994a-4a2c-9e29-fa0bc7e76bfc",
   "metadata": {},
   "outputs": [],
   "source": [
    "def GPM(data):\n",
    "    x=data[data['situation']!='Own goal']\n",
    "    y=x.groupby(['id_odsp','player'])['is_goal'].sum().reset_index().rename(columns={'id_odsp':'Matches','is_goal':'G'})\n",
    "    xy=y.groupby('player').agg({'Matches':'count','G':\"sum\"})\n",
    "    xy['GPM']=xy['G']/xy['Matches']\n",
    "    xy=xy[xy['Matches']>xy['Matches'].max()*0.25]\n",
    "#     print(xy['Matches'].max()*0.25)\n",
    "    xy.sort_values(by='GPM',ascending=False)\n",
    "    return xy.sort_values(by='GPM',ascending=False)\n",
    "\n",
    "print('G : Goals')\n",
    "print('GPM : Goals Per Match')\n",
    "player_gpm=GPM(df)\n",
    "player_gpm[:20]"
   ]
  },
  {
   "cell_type": "code",
   "execution_count": null,
   "id": "be829633-18a9-4b18-935a-02ac3c147c85",
   "metadata": {},
   "outputs": [],
   "source": [
    "def twin_barplot(data1,x1,y1,s1,data2,x2,y2,s2):\n",
    "    plt.figure(figsize=(20,10))\n",
    "\n",
    "    plt.subplot(121)\n",
    "    ax=sns.barplot(x=x1,y=y1,data=data1)\n",
    "    for i,j in enumerate(data1[x1][:20]):\n",
    "        ax.text(0.5,i,j,weight='bold')\n",
    "    plt.title(s1)\n",
    "    plt.ylabel(\"\")\n",
    "    plt.subplot(122)\n",
    "    plt.subplots_adjust(wspace=.5)\n",
    "    ax=sns.barplot(x=x2,y=y2,data=data2)\n",
    "    for i,j in enumerate(player_gpm[x2][:20]):\n",
    "        ax.text(0.01,i,j,weight='bold')\n",
    "    plt.title(s2)\n",
    "twin_barplot(player_tp[:20],'G',player_tp.index[:20],'Goals',player_gpm[:20],'GPM',player_gpm.index[:20],'Goals Per Match')"
   ]
  },
  {
   "cell_type": "code",
   "execution_count": null,
   "id": "3a12a8cc-97de-47ff-8c8e-18fb0cc4a2c7",
   "metadata": {},
   "outputs": [],
   "source": [
    "def top_scorers_by_league(data):\n",
    "    # Filter data for goals (is_goal==1) and exclude own goals\n",
    "    goals = data.loc[(data['is_goal'] == 1) & (data['situation'] != 'Own goal')]\n",
    "\n",
    "    # Group by country and player, sum the goals\n",
    "    goals_by_league = goals.groupby(['country', 'player'])['is_goal'].sum().reset_index().rename(columns={'is_goal': 'G'})\n",
    "\n",
    "    # Sort in descending order based on goals\n",
    "    goals_by_league = goals_by_league.sort_values(by=['country', 'G'], ascending=[True, False])\n",
    "\n",
    "    # Get top 5 scorers for each league\n",
    "    top_scorers_by_league = goals_by_league.groupby('country').head(5).set_index(['country', 'player'])\n",
    "\n",
    "    return top_scorers_by_league\n",
    "\n",
    "# Call the function with your DataFrame\n",
    "top_scorers_by_league = top_scorers_by_league(df)\n",
    "\n",
    "# Display top 5 scorers for each league\n",
    "print('Top 5 Scorers for Each League:')\n",
    "print(top_scorers_by_league)\n"
   ]
  },
  {
   "cell_type": "code",
   "execution_count": null,
   "id": "2fd34f30-0495-4b48-89cc-7280e8b683af",
   "metadata": {},
   "outputs": [],
   "source": [
    "def NPGPM(data):\n",
    "    x=data[(data['situation']!='Own goal')&(data['location']!='Penalty spot')]\n",
    "    y=x.groupby(['id_odsp','player'])['is_goal'].sum().reset_index().rename(columns={'id_odsp':'Matches','is_goal':'NPG'})\n",
    "#     print(y[y['player']=='sergio aguero'])\n",
    "    xy=y.groupby('player').agg({'Matches':'count','NPG':\"sum\"})\n",
    "    xy['NPGPM']=xy['NPG']/xy['Matches']\n",
    "    xy=xy[xy['Matches']>31]\n",
    "#     print(xy['Matches'].max()*0.25)\n",
    "    \n",
    "    return xy.sort_values(by='NPGPM',ascending=False)\n",
    "print('NPG : Non-Penalty Goals')\n",
    "print('NPGPM : Non-Penalty Goals Per Match')\n",
    "player_npg=NPGPM(df)\n",
    "player_npg[:20]\n"
   ]
  },
  {
   "cell_type": "code",
   "execution_count": null,
   "id": "61abcd39-9eb4-4bfa-992a-4450b8641bea",
   "metadata": {},
   "outputs": [],
   "source": [
    "def double_bargraph(data,s):\n",
    "#     print(data)\n",
    "    ax=data.plot(kind='barh',figsize=(20,20),edgecolor='k',linewidth=1)\n",
    "    plt.title(s)\n",
    "    plt.legend(loc='best',prop={'size':40})\n",
    "    for i,j in enumerate(data.iloc[:,1]):\n",
    "        ax.text(0.5,i,j,weight='bold')\n",
    "    for i,j in enumerate(data.iloc[:,0]):\n",
    "        ax.text(0.5,i-0.2,j,weight='bold',color='white')\n",
    "xx=pd.concat([player_tp,player_npg],axis=1).fillna(0)\n",
    "double_bargraph(xx.sort_values(by='G',ascending=False)[['G','NPG']][:20],'Goals Vs. Non-Penalty Goals')\n"
   ]
  },
  {
   "cell_type": "code",
   "execution_count": null,
   "id": "9fac8016-401a-4c83-8d06-9305766e25b4",
   "metadata": {},
   "outputs": [],
   "source": [
    "def ExpG(data):\n",
    "    x=data[(data['location']!='Penalty spot')&(data['event_type2']!='Own goal')&(data['event_type']=='Attempt')]\n",
    "    y=x.groupby(['player','id_odsp']).agg({'is_goal':'sum','event_type':'count'}).reset_index()\n",
    "    y['total']=y['is_goal']/y['event_type']\n",
    "    y=y.groupby('player').agg({'is_goal':'sum','total':'mean','event_type':'sum','id_odsp':'count'})\n",
    "    y['total2']=y['event_type']/y['id_odsp']\n",
    "    y['GPM']=y['is_goal']/y['id_odsp']\n",
    "    y=y[y['is_goal']>18]\n",
    "    y.columns=['NPG','Avg GPA','Attempts','Matches','APM','GPM']\n",
    "    return y\n",
    "print('NPG : Non-Penalty Goals')\n",
    "print('Avg GPA : Average Goal Per Attempt')\n",
    "print('APM : Attempt Per Match')\n",
    "print('GPM : Goal Per Match')\n",
    "\n",
    "ExpG(df).sort_values(by='Attempts',ascending=False)[:20]"
   ]
  },
  {
   "cell_type": "code",
   "execution_count": null,
   "id": "2ccfcdac-706b-4267-bfca-9d2d7080dc66",
   "metadata": {},
   "outputs": [],
   "source": [
    "def bar(data,x,y,s ):\n",
    "    fig=plt.figure(figsize=(15,15))\n",
    "    ax=sns.barplot(x=x,y=y,data=data)\n",
    "    plt.title(s)\n",
    "    for i,j in enumerate(data[x]):\n",
    "        ax.text(0.01,i,j,weight='bold')\n",
    "player_expg=ExpG(df).sort_values(by='Avg GPA',ascending=False)[:20]\n",
    "bar(player_expg,'Avg GPA',player_expg.index,'Average Goals Per Match')        "
   ]
  },
  {
   "cell_type": "code",
   "execution_count": null,
   "id": "f2a4d367-a68d-4a72-ada1-30bb3ae26fcf",
   "metadata": {},
   "outputs": [],
   "source": [
    "def GPL(data,colors,labels):\n",
    "    plt.figure(figsize=(15,12))\n",
    "    plt.xticks(list(range(10)))\n",
    "    plt.xlabel('Goals Per Match')\n",
    "#     plt.legend(loc='best',prop={'size':40})\n",
    "    for d,c,s in zip(data,colors,labels):\n",
    "        d=d.groupby('id_odsp')['is_goal'].sum()\n",
    "        sns.kdeplot(d,shade=True,color=c,label=s)\n",
    "        plt.axvline(d.mean(),linestyle='dashed',color=c,label=(s+' Mean'))\n",
    "#FOR the honor of League winners this year, i changed the colors to be the color of the winner teams shirts\n",
    "GPL([bundesliga,laliga,ligue1,seriea,premiereleague],['r','w','g','k','b'],['BundesLiga','LaLiga','Ligue1','SerieA','PremiereLeague'])"
   ]
  },
  {
   "cell_type": "code",
   "execution_count": null,
   "id": "3d3e6a50-18e5-4ce4-9449-317c1bec371a",
   "metadata": {},
   "outputs": [],
   "source": [
    "import seaborn as sns\n",
    "import matplotlib.pyplot as plt\n",
    "import pandas as pd\n",
    "\n",
    "# Function to create a scatter plot for top scorers\n",
    "def pointgraph(data, x, s):\n",
    "    plt.figure(figsize=(12, 8))\n",
    "    ax = sns.scatterplot(x=data[x], y=data.index, s=700, alpha=0.7)\n",
    "    for i, j in enumerate(data[x]):\n",
    "        ax.text(j - 0.5, i - 0.2, int(j), color='white')\n",
    "    plt.title(s)\n",
    "    plt.tight_layout()\n",
    "    plt.show()\n",
    "\n",
    "# Function to represent various league statistics\n",
    "def league_repr(data, n):\n",
    "    # Extracting relevant statistics\n",
    "    tp = top_scorers(data)\n",
    "    gpm = GPM(data)\n",
    "    npgpm = NPGPM(data)\n",
    "    xx = pd.concat([tp, npgpm], axis=1).fillna(0)\n",
    "    expg = ExpG(data)\n",
    "\n",
    "    # Creating visualizations\n",
    "    pointgraph(tp[:n], 'G', 'Top Scorers')\n",
    "    twin_barplot(tp[:n], 'G', tp.index[:n], 'Goals', gpm[:n], 'GPM', gpm.index[:n], 'Goals Per Match')\n",
    "    double_bargraph(xx[['G', 'NPG']].sort_values(by='G', ascending=False)[:n], 'Goals Vs.Non-Penalty Goals')\n",
    "    bar(expg.sort_values(by='Avg GPA', ascending=False)[:n], 'Avg GPA',\n",
    "        expg.sort_values(by='Avg GPA', ascending=False).index[:n], 'Average Goals Per Attempt')\n",
    "\n",
    "    # Displaying additional statistics\n",
    "    print('sorted by number of attempts')\n",
    "    display(expg.sort_values(by='Attempts', ascending=False)[:n])\n",
    "\n",
    "# Example usage for the Premiere League\n",
    "premier_league_top_scorers = top_scorers(premiereleague)\n",
    "league_repr(premiereleague, 20)\n"
   ]
  },
  {
   "cell_type": "code",
   "execution_count": null,
   "id": "ee045a88-267f-42aa-9a17-26d32a3270e4",
   "metadata": {},
   "outputs": [],
   "source": [
    "league_repr(ligue1,20)"
   ]
  },
  {
   "cell_type": "code",
   "execution_count": null,
   "id": "d7368897-931e-4124-81b9-3dc2907b7cf0",
   "metadata": {},
   "outputs": [],
   "source": [
    "league_repr(seriea,20)"
   ]
  },
  {
   "cell_type": "code",
   "execution_count": null,
   "id": "1ead13f6-3d3d-4af0-ab20-a2b5779a2916",
   "metadata": {},
   "outputs": [],
   "source": [
    "league_repr(laliga,20)"
   ]
  },
  {
   "cell_type": "code",
   "execution_count": null,
   "id": "eff357e0-4b26-4950-a8af-09fa7dce6af4",
   "metadata": {},
   "outputs": [],
   "source": [
    "league_repr(bundesliga,20)"
   ]
  },
  {
   "cell_type": "code",
   "execution_count": null,
   "id": "e5d74bfd-2e21-42aa-bd64-5a187a0fae57",
   "metadata": {},
   "outputs": [],
   "source": [
    "import pandas as pd\n",
    "\n",
    "data1 = pd.read_csv('./ginf.csv')\n",
    "data = pd.read_csv('./events.csv')\n"
   ]
  },
  {
   "cell_type": "code",
   "execution_count": null,
   "id": "6c00f6bc-3365-4347-abea-801f180ca46a",
   "metadata": {},
   "outputs": [],
   "source": [
    "data_shot = data[data.event_type == 1]"
   ]
  },
  {
   "cell_type": "code",
   "execution_count": null,
   "id": "e96b352b-69f8-4489-b97d-51a19f9b014c",
   "metadata": {},
   "outputs": [],
   "source": [
    "messi = (data_shot.player == 'lionel messi')\n",
    "ronaldo = (data_shot.player == 'cristiano ronaldo')"
   ]
  },
  {
   "cell_type": "code",
   "execution_count": null,
   "id": "0a3d14a4-f5af-4bce-94c3-adf9c2a514c3",
   "metadata": {},
   "outputs": [],
   "source": [
    "nb_shot_messi = data_shot.id_odsp[messi].count()\n",
    "nb_goal_messi = data_shot.id_odsp[messi][data_shot.is_goal == 1].count()\n",
    "ratio_messi = nb_goal_messi / nb_shot_messi\n",
    "\n",
    "nb_shot_ronaldo = data_shot.id_odsp[ronaldo].count()\n",
    "nb_goal_ronaldo = data_shot.id_odsp[ronaldo][data_shot.is_goal == 1].count()\n",
    "ratio_ronaldo = nb_goal_ronaldo / nb_shot_ronaldo\n",
    "\n",
    "print('Number of goals for Messi : ', nb_goal_messi)\n",
    "print('Goal/shot ratio for Messi : ', ratio_messi)\n",
    "print('Number of goals for Ronaldo : ', nb_goal_ronaldo)\n",
    "print('Goal/shot ratio for Ronaldo : ', ratio_ronaldo)"
   ]
  },
  {
   "cell_type": "code",
   "execution_count": null,
   "id": "d56d938b-a94c-45ab-bef8-5e8d862f4a4d",
   "metadata": {},
   "outputs": [],
   "source": [
    "print ('Number of shots not located : ', data_shot.is_goal[data.location == 19].count()) \n",
    "print ('Split by goal or no goal : ', data_shot.is_goal[data.location == 19].value_counts()) \n",
    "print('\\\n",
    "      ')\n",
    "print('Number of shot recorded', data_shot.is_goal.count())"
   ]
  },
  {
   "cell_type": "code",
   "execution_count": null,
   "id": "6d9903a1-5459-4233-94f4-a61680c0b432",
   "metadata": {},
   "outputs": [],
   "source": [
    "data_shot = data_shot[data_shot.location != 19]"
   ]
  },
  {
   "cell_type": "code",
   "execution_count": null,
   "id": "0fd25b12-0e76-4680-a6ce-07bed4444554",
   "metadata": {},
   "outputs": [],
   "source": [
    "data_shot.count()"
   ]
  },
  {
   "cell_type": "code",
   "execution_count": null,
   "id": "6aa0f92a-86f6-4877-8423-201e315f8525",
   "metadata": {},
   "outputs": [],
   "source": [
    "X = data_shot[['time', 'side', 'bodypart', 'location', 'situation', 'assist_method', 'fast_break']]\n",
    "y = data_shot['is_goal']"
   ]
  },
  {
   "cell_type": "code",
   "execution_count": null,
   "id": "d50dec66-919f-4bff-90de-9df026483363",
   "metadata": {},
   "outputs": [],
   "source": [
    "from sklearn.model_selection import train_test_split\n",
    "\n",
    "X_train, X_test, y_train, y_test = train_test_split(X, y, train_size = 0.8, stratify = y)"
   ]
  },
  {
   "cell_type": "code",
   "execution_count": null,
   "id": "9ab690e4-232d-416c-b70e-66ca14b5c115",
   "metadata": {},
   "outputs": [],
   "source": [
    "from sklearn.metrics import accuracy_score, log_loss\n",
    "from sklearn.neighbors import KNeighborsClassifier\n",
    "from sklearn.svm import SVC, LinearSVC, NuSVC\n",
    "from sklearn.tree import DecisionTreeClassifier\n",
    "from sklearn.ensemble import RandomForestClassifier, AdaBoostClassifier, GradientBoostingClassifier\n",
    "from sklearn.naive_bayes import GaussianNB\n",
    "from sklearn.discriminant_analysis import LinearDiscriminantAnalysis\n",
    "from sklearn.discriminant_analysis import QuadraticDiscriminantAnalysis\n",
    "\n",
    "classifiers = [\n",
    "    DecisionTreeClassifier(),\n",
    "    RandomForestClassifier(),\n",
    "    AdaBoostClassifier(),\n",
    "    GradientBoostingClassifier(),\n",
    "    GaussianNB(),\n",
    "    LinearDiscriminantAnalysis(),\n",
    "    QuadraticDiscriminantAnalysis(),\n",
    "    KNeighborsClassifier(),\n",
    "    LinearSVC()]\n",
    "\n",
    "\n",
    "for clf in classifiers:\n",
    "    clf.fit(X_train, y_train)\n",
    "    name = clf.__class__.__name__\n",
    "    \n",
    "    print(\"=\"*30)\n",
    "    print(name)\n",
    "    \n",
    "    print('****Results****')\n",
    "    train_predictions = clf.predict(X_test)\n",
    "    acc = accuracy_score(y_test, train_predictions)\n",
    "    print(\"Accuracy: {:.4%}\".format(acc))\n",
    "    \n",
    "print(\"=\"*30)"
   ]
  },
  {
   "cell_type": "code",
   "execution_count": null,
   "id": "4dc18e02-a6cc-4ad7-a411-a5d07bec802c",
   "metadata": {},
   "outputs": [],
   "source": [
    "from sklearn.ensemble import GradientBoostingClassifier\n",
    "model = GradientBoostingClassifier()\n",
    "model.fit(X_train, y_train)\n",
    "print('XGBoost model precision on test dataset : ', model.score(X_test, y_test) * 100)"
   ]
  },
  {
   "cell_type": "code",
   "execution_count": null,
   "id": "ddb40a14-b724-4e2d-95e9-be73d1151fce",
   "metadata": {},
   "outputs": [],
   "source": [
    "data_shot.is_goal.value_counts()"
   ]
  },
  {
   "cell_type": "code",
   "execution_count": null,
   "id": "e6fae484-594b-403e-b23b-043bc969585d",
   "metadata": {},
   "outputs": [],
   "source": [
    "from sklearn.dummy import DummyClassifier\n",
    "\n",
    "dummy_clf = DummyClassifier(strategy=\"most_frequent\")\n",
    "dummy_clf.fit(X_test, y_test)\n",
    "score = dummy_clf.score(X_test, y_test)\n",
    "print('most frequent precision : ', score * 100, '%')"
   ]
  },
  {
   "cell_type": "code",
   "execution_count": null,
   "id": "7a8cbbf9-c9e5-46a1-bca4-3739f6346830",
   "metadata": {},
   "outputs": [],
   "source": [
    "probas = model.predict_proba(X)\n",
    "data_shot['xgoalpercent'] = probas[:,1] "
   ]
  },
  {
   "cell_type": "code",
   "execution_count": null,
   "id": "5ea25c36-d1d8-4e44-bbab-82ed08166d22",
   "metadata": {},
   "outputs": [],
   "source": [
    "print('Maximum xG value for a shot : ', probas[:,1].max())\n",
    "print('Minimum xG value for a shot : ', probas[:,1].min())"
   ]
  },
  {
   "cell_type": "code",
   "execution_count": null,
   "id": "6bcad6eb-c31e-41ab-9932-7be4ce107d18",
   "metadata": {},
   "outputs": [],
   "source": [
    "nb_shot = data_shot.id_odsp[messi].count()\n",
    "print('Lionel Messi :')\n",
    "print('Number of shots for : ', nb_shot)\n",
    "\n",
    "print('Expected goals for : ', data_shot[messi]['xgoalpercent'].sum(axis = 0))\n",
    "\n",
    "nb_goal = data_shot.id_odsp[data_shot.is_goal == 1][messi].count()\n",
    "print('Number of goals for : ', nb_goal)\n",
    "print('Difference between goals and xG : ', nb_goal - data_shot[messi]['xgoalpercent'].sum(axis = 0))\n",
    "print('xG/shots :', data_shot[messi]['xgoalpercent'].sum(axis = 0) / nb_shot)\n",
    "\n",
    "print('\\\n",
    "    ')\n",
    "\n",
    "nb_shot = data_shot.id_odsp[ronaldo].count()\n",
    "print('Cristiano Ronaldo :')\n",
    "print('Number of shots : ', nb_shot)\n",
    "\n",
    "print('Expected goals : ', data_shot[ronaldo]['xgoalpercent'].sum(axis = 0))\n",
    "\n",
    "nb_goal = data_shot.id_odsp[data_shot.is_goal == 1][ronaldo].count()\n",
    "print('Number of goals : ', nb_goal)\n",
    "print('Difference between goals and xG : ', nb_goal - data_shot[messi]['xgoalpercent'].sum(axis = 0))\n",
    "print('xG/shots :', data_shot[messi]['xgoalpercent'].sum(axis = 0) / nb_shot)"
   ]
  },
  {
   "cell_type": "code",
   "execution_count": null,
   "id": "759a6ecd-3f7c-418d-924a-78e95371666c",
   "metadata": {},
   "outputs": [],
   "source": [
    "list_of_players = data_shot.player.unique()\n",
    "print(list_of_players)"
   ]
  },
  {
   "cell_type": "code",
   "execution_count": null,
   "id": "a92aff00-0702-422c-8ec6-06a9c6c19603",
   "metadata": {},
   "outputs": [],
   "source": []
  }
 ],
 "metadata": {
  "kernelspec": {
   "display_name": "Python 3 (ipykernel)",
   "language": "python",
   "name": "python3"
  },
  "language_info": {
   "codemirror_mode": {
    "name": "ipython",
    "version": 3
   },
   "file_extension": ".py",
   "mimetype": "text/x-python",
   "name": "python",
   "nbconvert_exporter": "python",
   "pygments_lexer": "ipython3",
   "version": "3.12.0"
  }
 },
 "nbformat": 4,
 "nbformat_minor": 5
}
