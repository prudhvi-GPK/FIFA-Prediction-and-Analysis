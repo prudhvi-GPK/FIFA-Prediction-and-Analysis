{
 "cells": [
  {
   "cell_type": "markdown",
   "id": "e45c982b-991b-426f-b583-d6277c98bae9",
   "metadata": {},
   "source": [
    "### FIFA Player Performance Prediction and Analysis"
   ]
  },
  {
   "cell_type": "markdown",
   "id": "1ee4f6c7-27dc-4a9c-b724-2c3933dd0b17",
   "metadata": {},
   "source": [
    "# Load the datasets"
   ]
  },
  {
   "cell_type": "code",
   "execution_count": null,
   "id": "16ded82a-d671-4ed7-b4ef-ce6410af3149",
   "metadata": {},
   "outputs": [],
   "source": [
    "import pandas as pd\n",
    "\n",
    "data1 = pd.read_csv('./ginf.csv')\n",
    "data = pd.read_csv('./events.csv')\n"
   ]
  },
  {
   "cell_type": "markdown",
   "id": "6dd691bb-30f8-4efd-a1cc-77bc56b75764",
   "metadata": {},
   "source": [
    "# Display the first few rows of each dataset"
   ]
  },
  {
   "cell_type": "code",
   "execution_count": null,
   "id": "ebb52166-559a-4ef1-af2b-a054a1b3af5c",
   "metadata": {},
   "outputs": [],
   "source": [
    "print(\"Data1:\")\n",
    "print(data1.head())\n",
    "\n",
    "print(\"\\nData:\")\n",
    "print(data.head())\n"
   ]
  },
  {
   "cell_type": "markdown",
   "id": "30086ed3-28fd-420b-a227-e30261b82dbf",
   "metadata": {},
   "source": [
    "# Display information about the datasets"
   ]
  },
  {
   "cell_type": "code",
   "execution_count": null,
   "id": "05a38c2e-1a04-4dcd-bfda-4ef36716766c",
   "metadata": {},
   "outputs": [],
   "source": [
    "print(\"Info for Data1:\")\n",
    "print(data1.info())\n",
    "\n",
    "print(\"\\nInfo for Data:\")\n",
    "print(data.info())\n",
    "\n"
   ]
  },
  {
   "cell_type": "markdown",
   "id": "3772e041-f970-45e3-8f5a-f4cf8a68eda3",
   "metadata": {},
   "source": [
    "# Load the dictionary from the text file \n",
    "# Create a dictionary for event_type and event_type2\n",
    "# Create dictionaries for side, shot_place, shot_outcome, location, bodypart, assist_method, and situation"
   ]
  },
  {
   "cell_type": "code",
   "execution_count": null,
   "id": "de976f16-bb56-455e-adc7-e06e8105400f",
   "metadata": {},
   "outputs": [],
   "source": [
    "with open(\"./dictionary.txt\", \"r\") as file:\n",
    "    dictionary_text = file.read()\n",
    "\n",
    "\n",
    "event_type_dict = {int(line.split('\\t')[0]): line.split('\\t')[1] for line in dictionary_text.split('\\n')[2:17] if line.split('\\t')[0].isdigit()}\n",
    "event_type2_dict = {int(line.split('\\t')[0]): line.split('\\t')[1] for line in dictionary_text.split('\\n')[18:23] if line.split('\\t')[0].isdigit()}\n",
    "\n",
    "side_dict = {int(line.split('\\t')[0]): line.split('\\t')[1] for line in dictionary_text.split('\\n')[24:26] if line.split('\\t')[0].isdigit()}\n",
    "shot_place_dict = {int(line.split('\\t')[0]): line.split('\\t')[1] for line in dictionary_text.split('\\n')[26:39] if line.split('\\t')[0].isdigit()}\n",
    "shot_outcome_dict = {int(line.split('\\t')[0]): line.split('\\t')[1] for line in dictionary_text.split('\\n')[39:43] if line.split('\\t')[0].isdigit()}\n",
    "location_dict = {int(line.split('\\t')[0]): line.split('\\t')[1] for line in dictionary_text.split('\\n')[43:62] if line.split('\\t')[0].isdigit()}\n",
    "bodypart_dict = {int(line.split('\\t')[0]): line.split('\\t')[1] for line in dictionary_text.split('\\n')[62:65] if line.split('\\t')[0].isdigit()}\n",
    "assist_method_dict = {int(line.split('\\t')[0]): line.split('\\t')[1] for line in dictionary_text.split('\\n')[65:70] if line.split('\\t')[0].isdigit()}\n",
    "situation_dict = {int(line.split('\\t')[0]): line.split('\\t')[1] for line in dictionary_text.split('\\n')[70:74] if line.split('\\t')[0].isdigit()}\n"
   ]
  },
  {
   "cell_type": "markdown",
   "id": "fcebe651-bfe0-472e-a51e-93997a37831a",
   "metadata": {},
   "source": [
    "# Group data1 by team and sum the goals for each team and Display the top ten teams"
   ]
  },
  {
   "cell_type": "code",
   "execution_count": null,
   "id": "d5d82530-2ef2-461a-8f57-2789aeaba937",
   "metadata": {},
   "outputs": [],
   "source": [
    "# Group data1 by team and sum the goals for each team\n",
    "team_goals_data1 = data1.groupby('ht')['fthg'].sum().reset_index()\n",
    "\n",
    "# Rename columns for clarity\n",
    "team_goals_data1.columns = ['Team', 'TotalGoals']\n",
    "\n",
    "# Sort the DataFrame by total goals in descending order\n",
    "team_goals_data1 = team_goals_data1.sort_values(by='TotalGoals', ascending=False)\n",
    "\n",
    "# Display the top ten teams\n",
    "top_ten_teams_data1 = team_goals_data1.head(10)\n",
    "print(top_ten_teams_data1)\n"
   ]
  },
  {
   "cell_type": "markdown",
   "id": "4ac49f56-cd29-4025-bc3e-59585c7a4d7f",
   "metadata": {},
   "source": [
    "# Top Ten Teams with Highest Number of Goals Scored"
   ]
  },
  {
   "cell_type": "code",
   "execution_count": null,
   "id": "72be8617-4b85-4764-8ab2-38d673095ce7",
   "metadata": {},
   "outputs": [],
   "source": [
    "import matplotlib.pyplot as plt\n",
    "\n",
    "labels = top_ten_teams_data1['Team']\n",
    "sizes = top_ten_teams_data1['TotalGoals']\n",
    "\n",
    "# Create a pie chart\n",
    "plt.figure(figsize=(8, 8))\n",
    "plt.pie(sizes, labels=labels, autopct='%1.1f%%', startangle=140)\n",
    "plt.title('Top Ten Teams with Highest Number of Goals Scored')\n",
    "plt.show()\n"
   ]
  },
  {
   "cell_type": "markdown",
   "id": "d2b080cc-bece-4b29-ac0b-aa0c6504fc2b",
   "metadata": {},
   "source": [
    "# Filter data for events where attempts were made but didn't result in goals (event_type == 1 and is_goal == 0) and Display the top teams with the most missed chances."
   ]
  },
  {
   "cell_type": "code",
   "execution_count": null,
   "id": "2eac617c-61e1-41e9-9832-2f195bd2824e",
   "metadata": {},
   "outputs": [],
   "source": [
    "missed_chances = data[(data['event_type'] == 1) & (data['is_goal'] == 0)]\n",
    "\n",
    "# Group data by team and count the number of missed chances for each team\n",
    "teams_missed_chances = missed_chances.groupby('event_team')['is_goal'].count().reset_index()\n",
    "\n",
    "# Sort the DataFrame by the number of missed chances in descending order\n",
    "teams_missed_chances = teams_missed_chances.sort_values(by='is_goal', ascending=False)\n",
    "\n",
    "top_teams_missed_chances = teams_missed_chances.head(10)\n",
    "print(top_teams_missed_chances)\n"
   ]
  },
  {
   "cell_type": "markdown",
   "id": "75f8a921-50c1-40f1-a6c3-598e14daa3e1",
   "metadata": {},
   "source": [
    "# Top Teams with the Most Missed Chances"
   ]
  },
  {
   "cell_type": "code",
   "execution_count": null,
   "id": "fe5e878d-38ac-4378-9a12-9d5b18a9266c",
   "metadata": {},
   "outputs": [],
   "source": [
    "import matplotlib.pyplot as plt\n",
    "\n",
    "teams = top_teams_missed_chances['event_team']\n",
    "missed_chances_counts = top_teams_missed_chances['is_goal']\n",
    "\n",
    "# Create a bar chart\n",
    "plt.figure(figsize=(12, 6))\n",
    "plt.bar(teams, missed_chances_counts, color='yellow')\n",
    "plt.xlabel('Team')\n",
    "plt.ylabel('Missed Chances Count')\n",
    "plt.title('Top Teams with the Most Missed Chances')\n",
    "plt.xticks(rotation=45, ha='right')\n",
    "plt.show()\n"
   ]
  },
  {
   "cell_type": "markdown",
   "id": "e4831218-b027-4593-8b9f-00844301eb03",
   "metadata": {},
   "source": [
    "# Comparison of Missed Chances and Goals Scored for Top Teams"
   ]
  },
  {
   "cell_type": "code",
   "execution_count": null,
   "id": "fee3bffb-b0fc-4aed-ac8e-db7db1f98a87",
   "metadata": {},
   "outputs": [],
   "source": [
    "import matplotlib.pyplot as plt\n",
    "import pandas as pd\n",
    "\n",
    "\n",
    "data_goals_scored = {'event_team': ['Real Madrid', 'Barcelona', 'Bayern Muncih', 'Juventus', 'AC Milan'],\n",
    "                     'is_goal_scored': [361, 354, 325, 298, 223]}\n",
    "top_teams_goals = pd.DataFrame(data_goals_scored)\n",
    "\n",
    "\n",
    "data_missed_chances = {'event_team': ['Real Madrid', 'Barcelona', 'Bayern Muncih', 'Juventus', 'AC Milan'],\n",
    "                       'is_goal_missed': [3152, 2636, 2656, 3079, 2756]}\n",
    "top_teams_missed_chances = pd.DataFrame(data_missed_chances)\n",
    "\n",
    "# Merge the DataFrames on the 'event_team' column\n",
    "comparison_data = pd.merge(top_teams_missed_chances, top_teams_goals, on='event_team')\n",
    "\n",
    "# Create a bar chart with missed chances and goals scored for each team\n",
    "teams = comparison_data['event_team']\n",
    "missed_chances_counts = comparison_data['is_goal_missed']\n",
    "goals_scored_counts = comparison_data['is_goal_scored']\n",
    "\n",
    "# Set up figure and axis\n",
    "fig, ax = plt.subplots(figsize=(14, 6))\n",
    "\n",
    "# Plot missed chances and goals scored for each team\n",
    "bar_width = 0.35\n",
    "bar1 = ax.bar(teams, missed_chances_counts, width=bar_width, label='Missed Chances', color='yellow')\n",
    "bar2 = ax.bar(teams, goals_scored_counts, width=bar_width, label='Goals Scored', color='green', bottom=missed_chances_counts)\n",
    "\n",
    "# Add labels, title, and legend\n",
    "ax.set_xlabel('Team')\n",
    "ax.set_ylabel('Count')\n",
    "ax.set_title('Comparison of Missed Chances and Goals Scored for Top Teams')\n",
    "ax.legend()\n",
    "\n",
    "# Rotate x-axis labels for better readability\n",
    "plt.xticks(rotation=45, ha='right')\n",
    "\n",
    "# Display the bar chart\n",
    "plt.show()\n",
    "\n"
   ]
  },
  {
   "cell_type": "markdown",
   "id": "e597529a-e7ba-454c-ae88-005e4b3c372d",
   "metadata": {},
   "source": [
    "# Group data by player and sum the goals for each player and Display the top ten strikers"
   ]
  },
  {
   "cell_type": "code",
   "execution_count": null,
   "id": "2b7b8db7-2446-4f62-9f38-066ebd7f220a",
   "metadata": {},
   "outputs": [],
   "source": [
    "top_scorers = data.groupby('player')['is_goal'].sum().reset_index()\n",
    "\n",
    "# Sort the DataFrame by total goals in descending order\n",
    "top_scorers = top_scorers.sort_values(by='is_goal', ascending=False)\n",
    "\n",
    "top_ten_strikers = top_scorers.head(10)\n",
    "print(top_ten_strikers)\n"
   ]
  },
  {
   "cell_type": "markdown",
   "id": "8bcc38fb-8deb-4e8b-8e1c-158621ecebeb",
   "metadata": {},
   "source": [
    "# Top Ten Strikers with Highest Number of Goals"
   ]
  },
  {
   "cell_type": "code",
   "execution_count": null,
   "id": "70f522ff-7d3e-4b57-b2a4-f4b41aa5b406",
   "metadata": {},
   "outputs": [],
   "source": [
    "import matplotlib.pyplot as plt\n",
    "\n",
    "players = top_ten_strikers['player']\n",
    "goals = top_ten_strikers['is_goal']\n",
    "\n",
    "# Create a bar chart\n",
    "plt.figure(figsize=(10, 6))\n",
    "plt.bar(players, goals, color='blue')\n",
    "plt.xlabel('Player')\n",
    "plt.ylabel('Total Goals')\n",
    "plt.title('Top Ten Strikers with Highest Number of Goals')\n",
    "plt.xticks(rotation=45, ha='right')\n",
    "plt.show()\n"
   ]
  },
  {
   "cell_type": "markdown",
   "id": "cb298b0d-444e-4e15-ada8-8d19d89bb45e",
   "metadata": {},
   "source": [
    "# Filter data for headers and Display the top players with the most header goals"
   ]
  },
  {
   "cell_type": "code",
   "execution_count": null,
   "id": "f3ca3c34-1889-4a5d-8a4b-81336bd29fa5",
   "metadata": {},
   "outputs": [],
   "source": [
    "# Filter data for headers\n",
    "header_goals = data[data['bodypart'] == 3]\n",
    "\n",
    "# Group data by player and count the number of header goals for each player\n",
    "players_header_goals = header_goals.groupby('player')['is_goal'].count().reset_index()\n",
    "\n",
    "# Sort the DataFrame by the number of header goals in descending order\n",
    "players_header_goals = players_header_goals.sort_values(by='is_goal', ascending=False)\n",
    "\n",
    "# Display the top players with the most header goals\n",
    "top_players_header_goals = players_header_goals.head(10)\n",
    "print(top_players_header_goals)\n",
    "\n"
   ]
  },
  {
   "cell_type": "markdown",
   "id": "13e081ec-bf7a-43df-8de8-a9e57bfd4193",
   "metadata": {},
   "source": [
    "# Top Players with the Most Header Goals"
   ]
  },
  {
   "cell_type": "code",
   "execution_count": null,
   "id": "0b6be5f1-1dee-4bd4-845c-8597c4219e42",
   "metadata": {},
   "outputs": [],
   "source": [
    "import matplotlib.pyplot as plt\n",
    "\n",
    "\n",
    "players = top_players_header_goals['player']\n",
    "header_goal_counts = top_players_header_goals['is_goal']\n",
    "\n",
    "# Create a bar chart\n",
    "plt.figure(figsize=(12, 6))\n",
    "plt.bar(players, header_goal_counts, color='green')\n",
    "plt.xlabel('Player')\n",
    "plt.ylabel('Header Goal Count')\n",
    "plt.title('Top Players with the Most Header Goals')\n",
    "plt.xticks(rotation=45, ha='right')\n",
    "plt.show()\n"
   ]
  },
  {
   "cell_type": "markdown",
   "id": "920dedbf-0d7f-444e-8f59-904e5bbccc1c",
   "metadata": {},
   "source": [
    "# Filter data for Right foot and Display the top players with the most right footed goals"
   ]
  },
  {
   "cell_type": "code",
   "execution_count": null,
   "id": "8a6057b7-3563-4cf5-adf0-ad110364cb3a",
   "metadata": {},
   "outputs": [],
   "source": [
    "right_foot_goals = data[data['bodypart'] == 1]\n",
    "\n",
    "# Group data by player and count the number of goals scored with the right foot for each player\n",
    "players_right_foot_goals = right_foot_goals.groupby('player')['is_goal'].count().reset_index()\n",
    "\n",
    "# Sort the DataFrame by the number of right foot goals in descending order\n",
    "players_right_foot_goals = players_right_foot_goals.sort_values(by='is_goal', ascending=False)\n",
    " \n",
    "top_players_right_foot_goals = players_right_foot_goals.head(10)\n",
    "print(top_players_right_foot_goals)\n",
    "\n"
   ]
  },
  {
   "cell_type": "markdown",
   "id": "c901a2ea-9228-4182-838e-7bd6d134542a",
   "metadata": {},
   "source": [
    "# Top Players with the Most Right Foot Goals"
   ]
  },
  {
   "cell_type": "code",
   "execution_count": null,
   "id": "0f0fd4d5-43d0-4448-a5b1-5a211266ad96",
   "metadata": {},
   "outputs": [],
   "source": [
    "import matplotlib.pyplot as plt\n",
    "\n",
    "\n",
    "players = top_players_right_foot_goals['player']\n",
    "right_foot_goal_counts = top_players_right_foot_goals['is_goal']\n",
    "\n",
    "# Create a bar chart\n",
    "plt.figure(figsize=(12, 6))\n",
    "plt.bar(players, right_foot_goal_counts, color='orange')\n",
    "plt.xlabel('Player')\n",
    "plt.ylabel('Right Foot Goal Count')\n",
    "plt.title('Top Players with the Most Right Foot Goals')\n",
    "plt.xticks(rotation=45, ha='right')\n",
    "plt.show()\n"
   ]
  },
  {
   "cell_type": "markdown",
   "id": "dbb76529-2a4a-4280-bc15-a2438432b618",
   "metadata": {},
   "source": [
    "# Filter data for goals scored with the left foot and Display the top players with the most left foot goals"
   ]
  },
  {
   "cell_type": "code",
   "execution_count": null,
   "id": "b101e89e-1cc4-46eb-8cf3-e7c9c1a8d7f7",
   "metadata": {},
   "outputs": [],
   "source": [
    "left_foot_goals = data[data['bodypart'] == 2]\n",
    "\n",
    "# Group data by player and count the number of goals scored with the left foot for each player\n",
    "players_left_foot_goals = left_foot_goals.groupby('player')['is_goal'].count().reset_index()\n",
    "\n",
    "# Sort the DataFrame by the number of left foot goals in descending order\n",
    "players_left_foot_goals = players_left_foot_goals.sort_values(by='is_goal', ascending=False)\n",
    "\n",
    "top_players_left_foot_goals = players_left_foot_goals.head(10)\n",
    "print(top_players_left_foot_goals)\n"
   ]
  },
  {
   "cell_type": "markdown",
   "id": "c193f8b4-850e-4ecb-a39b-3dbc7b9a2168",
   "metadata": {},
   "source": [
    "# Top Players with the Most Left Foot Goals"
   ]
  },
  {
   "cell_type": "code",
   "execution_count": null,
   "id": "f59fa5ca-7747-45da-870b-10242280c4a0",
   "metadata": {},
   "outputs": [],
   "source": [
    "import matplotlib.pyplot as plt\n",
    "\n",
    "# Assuming you already have the top_players_left_foot_goals DataFrame\n",
    "players = top_players_left_foot_goals['player']\n",
    "left_foot_goal_counts = top_players_left_foot_goals['is_goal']\n",
    "\n",
    "# Create a bar chart\n",
    "plt.figure(figsize=(12, 6))\n",
    "plt.bar(players, left_foot_goal_counts, color='purple')\n",
    "plt.xlabel('Player')\n",
    "plt.ylabel('Left Foot Goal Count')\n",
    "plt.title('Top Players with the Most Left Foot Goals')\n",
    "plt.xticks(rotation=45, ha='right')\n",
    "plt.show()\n"
   ]
  },
  {
   "cell_type": "code",
   "execution_count": null,
   "id": "37ca84f1-5945-4251-b71d-0db0f98b3c86",
   "metadata": {},
   "outputs": [],
   "source": [
    "#as we only focus on shots for this analysis, let's create another dataframe that only keeps the shot events\n",
    "data_shot = data[data.event_type == 1]"
   ]
  },
  {
   "cell_type": "code",
   "execution_count": null,
   "id": "9397dbf4-6878-4936-b981-3b5871641e3c",
   "metadata": {},
   "outputs": [],
   "source": [
    "messi = (data_shot.player == 'lionel messi')\n",
    "ronaldo = (data_shot.player == 'cristiano ronaldo')"
   ]
  },
  {
   "cell_type": "code",
   "execution_count": null,
   "id": "d98a32d2-f1bb-4c7d-805b-8d629c50fb9f",
   "metadata": {},
   "outputs": [],
   "source": [
    "nb_shot_messi = data_shot.id_odsp[messi].count()\n",
    "nb_goal_messi = data_shot.id_odsp[messi][data_shot.is_goal == 1].count()\n",
    "ratio_messi = nb_goal_messi / nb_shot_messi\n",
    "\n",
    "nb_shot_ronaldo = data_shot.id_odsp[ronaldo].count()\n",
    "nb_goal_ronaldo = data_shot.id_odsp[ronaldo][data_shot.is_goal == 1].count()\n",
    "ratio_ronaldo = nb_goal_ronaldo / nb_shot_ronaldo\n",
    "\n",
    "print('Number of goals for Messi : ', nb_goal_messi)\n",
    "print('Goal/shot ratio for Messi : ', ratio_messi)\n",
    "print('Number of goals for Ronaldo : ', nb_goal_ronaldo)\n",
    "print('Goal/shot ratio for Ronaldo : ', ratio_ronaldo)"
   ]
  },
  {
   "cell_type": "code",
   "execution_count": null,
   "id": "37f4b1cf-6dfe-4053-99ed-427a0a02edda",
   "metadata": {},
   "outputs": [],
   "source": [
    "print ('Number of shots not located : ', data_shot.is_goal[data.location == 19].count()) \n",
    "print ('Split by goal or no goal : ', data_shot.is_goal[data.location == 19].value_counts()) \n",
    "print('\\\n",
    "      ')\n",
    "print('Number of shot recorded', data_shot.is_goal.count())"
   ]
  },
  {
   "cell_type": "markdown",
   "id": "59a40b04-a01f-45a0-8b09-8acf1ac12cfe",
   "metadata": {},
   "source": [
    "We are going to drop those N/A values for the shot location, as they represent less than 6% of the goals. Unfortunately almost all of them are goals, but we should have enough data.\n",
    "\n",
    "Of course, at the end some players will see their number of goals decresead, but we judge it acceptabl"
   ]
  },
  {
   "cell_type": "code",
   "execution_count": null,
   "id": "3fd440cd-d156-46f3-bde2-4d7ea473b918",
   "metadata": {},
   "outputs": [],
   "source": [
    "data_shot = data_shot[data_shot.location != 19]"
   ]
  },
  {
   "cell_type": "code",
   "execution_count": null,
   "id": "b07e7fd9-a7a2-454b-a877-c68072eacbb2",
   "metadata": {},
   "outputs": [],
   "source": [
    "data_shot.count()"
   ]
  },
  {
   "cell_type": "code",
   "execution_count": null,
   "id": "0556bbaf-ddee-4ad7-8087-099336b4f958",
   "metadata": {},
   "outputs": [],
   "source": [
    "X = data_shot[['time', 'side', 'bodypart', 'location', 'situation', 'assist_method', 'fast_break']]\n",
    "y = data_shot['is_goal']"
   ]
  },
  {
   "cell_type": "code",
   "execution_count": null,
   "id": "c515e8d9-4be9-42ce-990c-fb5503b0e3c8",
   "metadata": {},
   "outputs": [],
   "source": [
    "from sklearn.model_selection import train_test_split\n",
    "\n",
    "X_train, X_test, y_train, y_test = train_test_split(X, y, train_size = 0.8, stratify = y)"
   ]
  },
  {
   "cell_type": "code",
   "execution_count": null,
   "id": "517b43a4-b114-4cb4-816c-37728a0a3e71",
   "metadata": {},
   "outputs": [],
   "source": [
    "from sklearn.metrics import accuracy_score, log_loss\n",
    "from sklearn.neighbors import KNeighborsClassifier\n",
    "from sklearn.svm import SVC, LinearSVC, NuSVC\n",
    "from sklearn.tree import DecisionTreeClassifier\n",
    "from sklearn.ensemble import RandomForestClassifier, AdaBoostClassifier, GradientBoostingClassifier\n",
    "from sklearn.naive_bayes import GaussianNB\n",
    "from sklearn.discriminant_analysis import LinearDiscriminantAnalysis\n",
    "from sklearn.discriminant_analysis import QuadraticDiscriminantAnalysis\n",
    "\n",
    "classifiers = [\n",
    "    DecisionTreeClassifier(),\n",
    "    RandomForestClassifier(),\n",
    "    AdaBoostClassifier(),\n",
    "    GradientBoostingClassifier(),\n",
    "    GaussianNB(),\n",
    "    LinearDiscriminantAnalysis(),\n",
    "    QuadraticDiscriminantAnalysis(),\n",
    "    KNeighborsClassifier(),\n",
    "    LinearSVC()]\n",
    "\n",
    "\n",
    "for clf in classifiers:\n",
    "    clf.fit(X_train, y_train)\n",
    "    name = clf.__class__.__name__\n",
    "    \n",
    "    print(\"=\"*30)\n",
    "    print(name)\n",
    "    \n",
    "    print('****Results****')\n",
    "    train_predictions = clf.predict(X_test)\n",
    "    acc = accuracy_score(y_test, train_predictions)\n",
    "    print(\"Accuracy: {:.4%}\".format(acc))\n",
    "    \n",
    "print(\"=\"*30)"
   ]
  },
  {
   "cell_type": "code",
   "execution_count": null,
   "id": "dccbe24b-a826-4649-bdac-f41a72227ce9",
   "metadata": {},
   "outputs": [],
   "source": []
  }
 ],
 "metadata": {
  "kernelspec": {
   "display_name": "Python 3 (ipykernel)",
   "language": "python",
   "name": "python3"
  },
  "language_info": {
   "codemirror_mode": {
    "name": "ipython",
    "version": 3
   },
   "file_extension": ".py",
   "mimetype": "text/x-python",
   "name": "python",
   "nbconvert_exporter": "python",
   "pygments_lexer": "ipython3",
   "version": "3.12.0"
  }
 },
 "nbformat": 4,
 "nbformat_minor": 5
}
